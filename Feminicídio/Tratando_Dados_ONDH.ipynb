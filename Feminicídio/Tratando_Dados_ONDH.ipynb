{
  "nbformat": 4,
  "nbformat_minor": 0,
  "metadata": {
    "colab": {
      "name": "Tratando Dados ONDH.ipynb",
      "provenance": []
    },
    "kernelspec": {
      "name": "python3",
      "display_name": "Python 3"
    },
    "language_info": {
      "name": "python"
    }
  },
  "cells": [
    {
      "cell_type": "code",
      "metadata": {
        "id": "sl7Ca0S1l4i8"
      },
      "source": [
        "# Code to read csv file into Colaboratory:\n",
        "!pip install -U -q PyDrive\n",
        "  \n",
        "from pydrive.auth import GoogleAuth\n",
        "from pydrive.drive import GoogleDrive\n",
        "from google.colab import auth\n",
        "from oauth2client.client import GoogleCredentials\n",
        "    \n",
        "# Authenticate and create the PyDrive client.\n",
        "auth.authenticate_user()\n",
        "gauth = GoogleAuth()\n",
        "gauth.credentials = GoogleCredentials.get_application_default()\n",
        "drive = GoogleDrive(gauth)"
      ],
      "execution_count": 19,
      "outputs": []
    },
    {
      "cell_type": "code",
      "metadata": {
        "id": "5OenGbvvmQg6"
      },
      "source": [
        "link1 = 'https://drive.google.com/file/d/1UOd-KfNAp_v614zlzBwNrpcywhWUU6gu' # O link compartilhável\n",
        "link2 = 'https://drive.google.com/file/d/1BzaHPqY3Hk_kPwJLb90Sm5aqzL8F9gJJ' # O link compartilhável"
      ],
      "execution_count": 10,
      "outputs": []
    },
    {
      "cell_type": "code",
      "metadata": {
        "colab": {
          "base_uri": "https://localhost:8080/"
        },
        "id": "pEjTwE4FmDuE",
        "outputId": "e2cdf276-816a-48d4-fd68-371324545b55"
      },
      "source": [
        "fluff, id1 = link1.split('d/')\n",
        "print (id1) # Verify that you have everything after 'd/'\n",
        "\n",
        "fluff, id2 = link2.split('d/')\n",
        "print (id2) # Verify that you have everything after 'd/'"
      ],
      "execution_count": 11,
      "outputs": [
        {
          "output_type": "stream",
          "name": "stdout",
          "text": [
            "1UOd-KfNAp_v614zlzBwNrpcywhWUU6gu\n",
            "1BzaHPqY3Hk_kPwJLb90Sm5aqzL8F9gJJ\n"
          ]
        }
      ]
    },
    {
      "cell_type": "code",
      "metadata": {
        "colab": {
          "base_uri": "https://localhost:8080/"
        },
        "id": "ymnphXanqCXZ",
        "outputId": "f72195e9-566b-4a49-b882-97e2f7c377da"
      },
      "source": [
        "import pandas as pd\n",
        "\n",
        "downloaded = drive.CreateFile({'id':id2}) \n",
        "downloaded.GetContentFile('primeiro_semestre_2020.csv')  \n",
        "  \n",
        "df2 = pd.read_csv('primeiro_semestre_2020.csv', encoding='latin-1')\n",
        "print(df2)\n",
        "# Dataset is now stored in a Pandas Dataframe"
      ],
      "execution_count": 32,
      "outputs": [
        {
          "output_type": "stream",
          "name": "stdout",
          "text": [
            "        Ano;Trimestre;Mês;Dia;Tipo_de_violação;Grupo_vulnerável;Espécie_de_violação;País_de_orígem_da_vítima;UF;Canal_de_atendimento;Denúncia_Emergencial;Denunciante;Motivação;Cenário_da_violação;Agravantes;agravantes_policiais;Relação_Vítima_x_Suspeito;Sexo_da_vítima;idade_vitima;Grau_instrução_da_vítima;Raça\\cor_da_vítima;Faixa_de_renda_da_vítima;Nacionalidade_da_vítima;deficiencia_vitima;relacao_demandante_vitima;Sexo_do_suspeito;idade_suspeito;Grau_instrução_do_suspeito;Nacionalidade_do_suspeito;Raça\\cor_do_suspeito;Faixa_de_renda_do_suspeito;País_de_orígem_do_suspeito;deficiencia_suspeito\n",
            "0        2020;Trim 1;janeiro;1;2. VIOLÊNCIA PSICOLÓGICA...                                                                                                                                                                                                                                                                                                                                                                                                                                                                                                                                                              \n",
            "1        2020;Trim 1;janeiro;1;2. VIOLÊNCIA PSICOLÓGICA...                                                                                                                                                                                                                                                                                                                                                                                                                                                                                                                                                              \n",
            "2        2020;Trim 1;janeiro;1;7. VIOLAÇÕES GERAIS;1-Vi...                                                                                                                                                                                                                                                                                                                                                                                                                                                                                                                                                              \n",
            "3        2020;Trim 1;janeiro;1;2. VIOLÊNCIA PSICOLÓGICA...                                                                                                                                                                                                                                                                                                                                                                                                                                                                                                                                                              \n",
            "4        2020;Trim 1;janeiro;1;2. VIOLÊNCIA PSICOLÓGICA...                                                                                                                                                                                                                                                                                                                                                                                                                                                                                                                                                              \n",
            "...                                                    ...                                                                                                                                                                                                                                                                                                                                                                                                                                                                                                                                                              \n",
            "1016393  2020;Trim 2;junho;15;2. VIOLÊNCIA PSICOLÓGICA;...                                                                                                                                                                                                                                                                                                                                                                                                                                                                                                                                                              \n",
            "1016394  2020;Trim 2;junho;15;1. VIOLÊNCIA FÍSICA;2-Vio...                                                                                                                                                                                                                                                                                                                                                                                                                                                                                                                                                              \n",
            "1016395  2020;Trim 2;junho;15;2. VIOLÊNCIA PSICOLÓGICA;...                                                                                                                                                                                                                                                                                                                                                                                                                                                                                                                                                              \n",
            "1016396  2020;Trim 2;junho;15;2. VIOLÊNCIA PSICOLÓGICA;...                                                                                                                                                                                                                                                                                                                                                                                                                                                                                                                                                              \n",
            "1016397  2020;Trim 2;junho;15;2. VIOLÊNCIA PSICOLÓGICA;...                                                                                                                                                                                                                                                                                                                                                                                                                                                                                                                                                              \n",
            "\n",
            "[1016398 rows x 1 columns]\n"
          ]
        }
      ]
    },
    {
      "cell_type": "code",
      "metadata": {
        "colab": {
          "base_uri": "https://localhost:8080/"
        },
        "id": "Q0W8iVu0mGOR",
        "outputId": "139e5e91-51a1-47b9-9550-ad1a9e0c1101"
      },
      "source": [
        "downloaded = drive.CreateFile({'id':id1}) \n",
        "downloaded.GetContentFile('segundo_semestre_2020.csv')  \n",
        "  \n",
        "df1 = pd.read_csv('segundo_semestre_2020.csv', encoding='latin-1')\n",
        "print(df1)\n",
        "# Dataset is now stored in a Pandas Dataframe"
      ],
      "execution_count": 37,
      "outputs": [
        {
          "output_type": "stream",
          "name": "stdout",
          "text": [
            "       Ano;Trimestre;Mês;Dia;Tipo_de_violação;Grupo_vulnerável;Espécie_de_violação;País_de_orígem_da_vítima;UF;Canal_de_atendimento;Denúncia_Emergencial;Denunciante;Motivação;Cenário_da_violação;Agravantes;agravantes_policiais;Relação_Vítima_x_Suspeito;Sexo_da_vítima;idade_vitima;Grau_instrução_da_vítima;Raça\\cor_da_vítima;Faixa_de_renda_da_vítima;Nacionalidade_da_vítima;deficiencia_vitima;relacao_demandante_vitima;Sexo_do_suspeito;idade_suspeito;Grau_instrução_do_suspeito;Nacionalidade_do_suspeito;Raça\\cor_do_suspeito;Faixa_de_renda_do_suspeito;País_de_orígem_do_suspeito;deficiencia_suspeito\n",
            "0       2020;Trim 4;dezembro;31;BRASIL;AM;02. VIOLÊNCI...                                                                                                                                                                                                                                                                                                                                                                                                                                                                                                                                                              \n",
            "1       2020;Trim 4;dezembro;31;BRASIL;AM;02. VIOLÊNCI...                                                                                                                                                                                                                                                                                                                                                                                                                                                                                                                                                              \n",
            "2       2020;Trim 4;dezembro;31;BRASIL;AM;02. VIOLÊNCI...                                                                                                                                                                                                                                                                                                                                                                                                                                                                                                                                                              \n",
            "3       2020;Trim 4;dezembro;31;BRASIL;AM;03. VIOLÊNCI...                                                                                                                                                                                                                                                                                                                                                                                                                                                                                                                                                              \n",
            "4       2020;Trim 4;dezembro;31;BRASIL;AM;03. VIOLÊNCI...                                                                                                                                                                                                                                                                                                                                                                                                                                                                                                                                                              \n",
            "...                                                   ...                                                                                                                                                                                                                                                                                                                                                                                                                                                                                                                                                              \n",
            "409873  2020;Trim 4;dezembro;1;BRASIL;SP;03. VIOLÊNCIA...                                                                                                                                                                                                                                                                                                                                                                                                                                                                                                                                                              \n",
            "409874  2020;Trim 4;dezembro;1;BRASIL;SP;02. VIOLÊNCIA...                                                                                                                                                                                                                                                                                                                                                                                                                                                                                                                                                              \n",
            "409875  2020;Trim 4;dezembro;1;BRASIL;SP;02. VIOLÊNCIA...                                                                                                                                                                                                                                                                                                                                                                                                                                                                                                                                                              \n",
            "409876  2020;Trim 4;dezembro;1;BRASIL;SP;03. VIOLÊNCIA...                                                                                                                                                                                                                                                                                                                                                                                                                                                                                                                                                              \n",
            "409877  2020;Trim 4;dezembro;1;BRASIL;SP;03. VIOLÊNCIA...                                                                                                                                                                                                                                                                                                                                                                                                                                                                                                                                                              \n",
            "\n",
            "[409878 rows x 1 columns]\n"
          ]
        }
      ]
    },
    {
      "cell_type": "code",
      "metadata": {
        "colab": {
          "base_uri": "https://localhost:8080/"
        },
        "id": "D-R61scLusWk",
        "outputId": "d67fdc85-f50e-406c-b5fb-2eec97826536"
      },
      "source": [
        "df = pd.concat([df2, df1])\n",
        "print (df)"
      ],
      "execution_count": 38,
      "outputs": [
        {
          "output_type": "stream",
          "name": "stdout",
          "text": [
            "       Ano;Trimestre;Mês;Dia;Tipo_de_violação;Grupo_vulnerável;Espécie_de_violação;País_de_orígem_da_vítima;UF;Canal_de_atendimento;Denúncia_Emergencial;Denunciante;Motivação;Cenário_da_violação;Agravantes;agravantes_policiais;Relação_Vítima_x_Suspeito;Sexo_da_vítima;idade_vitima;Grau_instrução_da_vítima;Raça\\cor_da_vítima;Faixa_de_renda_da_vítima;Nacionalidade_da_vítima;deficiencia_vitima;relacao_demandante_vitima;Sexo_do_suspeito;idade_suspeito;Grau_instrução_do_suspeito;Nacionalidade_do_suspeito;Raça\\cor_do_suspeito;Faixa_de_renda_do_suspeito;País_de_orígem_do_suspeito;deficiencia_suspeito\n",
            "0       2020;Trim 1;janeiro;1;2. VIOLÊNCIA PSICOLÓGICA...                                                                                                                                                                                                                                                                                                                                                                                                                                                                                                                                                              \n",
            "1       2020;Trim 1;janeiro;1;2. VIOLÊNCIA PSICOLÓGICA...                                                                                                                                                                                                                                                                                                                                                                                                                                                                                                                                                              \n",
            "2       2020;Trim 1;janeiro;1;7. VIOLAÇÕES GERAIS;1-Vi...                                                                                                                                                                                                                                                                                                                                                                                                                                                                                                                                                              \n",
            "3       2020;Trim 1;janeiro;1;2. VIOLÊNCIA PSICOLÓGICA...                                                                                                                                                                                                                                                                                                                                                                                                                                                                                                                                                              \n",
            "4       2020;Trim 1;janeiro;1;2. VIOLÊNCIA PSICOLÓGICA...                                                                                                                                                                                                                                                                                                                                                                                                                                                                                                                                                              \n",
            "...                                                   ...                                                                                                                                                                                                                                                                                                                                                                                                                                                                                                                                                              \n",
            "409873  2020;Trim 4;dezembro;1;BRASIL;SP;03. VIOLÊNCIA...                                                                                                                                                                                                                                                                                                                                                                                                                                                                                                                                                              \n",
            "409874  2020;Trim 4;dezembro;1;BRASIL;SP;02. VIOLÊNCIA...                                                                                                                                                                                                                                                                                                                                                                                                                                                                                                                                                              \n",
            "409875  2020;Trim 4;dezembro;1;BRASIL;SP;02. VIOLÊNCIA...                                                                                                                                                                                                                                                                                                                                                                                                                                                                                                                                                              \n",
            "409876  2020;Trim 4;dezembro;1;BRASIL;SP;03. VIOLÊNCIA...                                                                                                                                                                                                                                                                                                                                                                                                                                                                                                                                                              \n",
            "409877  2020;Trim 4;dezembro;1;BRASIL;SP;03. VIOLÊNCIA...                                                                                                                                                                                                                                                                                                                                                                                                                                                                                                                                                              \n",
            "\n",
            "[1426276 rows x 1 columns]\n"
          ]
        }
      ]
    },
    {
      "cell_type": "code",
      "metadata": {
        "colab": {
          "base_uri": "https://localhost:8080/",
          "height": 35
        },
        "id": "k_P9fp1Fvpxa",
        "outputId": "5ee3f5bc-6fc9-4d7f-8bc0-ab843aa3c669"
      },
      "source": [
        "from google.colab import files\n",
        "\n",
        "df.to_csv('dados_2020.csv') \n",
        "files.download('dados_2020.csv')"
      ],
      "execution_count": 40,
      "outputs": [
        {
          "output_type": "display_data",
          "data": {
            "application/javascript": [
              "\n",
              "    async function download(id, filename, size) {\n",
              "      if (!google.colab.kernel.accessAllowed) {\n",
              "        return;\n",
              "      }\n",
              "      const div = document.createElement('div');\n",
              "      const label = document.createElement('label');\n",
              "      label.textContent = `Downloading \"${filename}\": `;\n",
              "      div.appendChild(label);\n",
              "      const progress = document.createElement('progress');\n",
              "      progress.max = size;\n",
              "      div.appendChild(progress);\n",
              "      document.body.appendChild(div);\n",
              "\n",
              "      const buffers = [];\n",
              "      let downloaded = 0;\n",
              "\n",
              "      const channel = await google.colab.kernel.comms.open(id);\n",
              "      // Send a message to notify the kernel that we're ready.\n",
              "      channel.send({})\n",
              "\n",
              "      for await (const message of channel.messages) {\n",
              "        // Send a message to notify the kernel that we're ready.\n",
              "        channel.send({})\n",
              "        if (message.buffers) {\n",
              "          for (const buffer of message.buffers) {\n",
              "            buffers.push(buffer);\n",
              "            downloaded += buffer.byteLength;\n",
              "            progress.value = downloaded;\n",
              "          }\n",
              "        }\n",
              "      }\n",
              "      const blob = new Blob(buffers, {type: 'application/binary'});\n",
              "      const a = document.createElement('a');\n",
              "      a.href = window.URL.createObjectURL(blob);\n",
              "      a.download = filename;\n",
              "      div.appendChild(a);\n",
              "      a.click();\n",
              "      div.remove();\n",
              "    }\n",
              "  "
            ],
            "text/plain": [
              "<IPython.core.display.Javascript object>"
            ]
          },
          "metadata": {}
        },
        {
          "output_type": "display_data",
          "data": {
            "application/javascript": [
              "download(\"download_03f2a171-c0f4-44e4-8302-252ce7e5b185\", \"dados_2020.csv\", 551899579)"
            ],
            "text/plain": [
              "<IPython.core.display.Javascript object>"
            ]
          },
          "metadata": {}
        }
      ]
    }
  ]
}
